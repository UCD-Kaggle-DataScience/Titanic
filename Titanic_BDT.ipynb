{
 "cells": [
  {
   "cell_type": "code",
   "execution_count": 37,
   "metadata": {
    "collapsed": false
   },
   "outputs": [],
   "source": [
    "import pandas as pd\n",
    "import numpy as np\n",
    "import matplotlib.pyplot as plt\n",
    "from sklearn.model_selection import KFold\n",
    "from sklearn import tree\n",
    "from sklearn.ensemble import RandomForestClassifier\n",
    "from sklearn.ensemble import AdaBoostClassifier\n",
    "from datacleaner import autoclean"
   ]
  },
  {
   "cell_type": "code",
   "execution_count": 47,
   "metadata": {
    "collapsed": false
   },
   "outputs": [
    {
     "name": "stdout",
     "output_type": "stream",
     "text": [
      "<class 'pandas.core.frame.DataFrame'>\n",
      "Int64Index: 891 entries, 0 to 890\n",
      "Data columns (total 12 columns):\n",
      "PassengerId    891 non-null int64\n",
      "Survived       891 non-null int64\n",
      "Pclass         891 non-null int64\n",
      "Name           891 non-null object\n",
      "Sex            891 non-null object\n",
      "Age            714 non-null float64\n",
      "SibSp          891 non-null int64\n",
      "Parch          891 non-null int64\n",
      "Ticket         891 non-null object\n",
      "Fare           891 non-null float64\n",
      "Cabin          204 non-null object\n",
      "Embarked       889 non-null object\n",
      "dtypes: float64(2), int64(5), object(5)None\n"
     ]
    }
   ],
   "source": [
    "# Read in data\n",
    "data = pd.read_csv('train.csv')\n",
    "#data = autoclean(data)\n",
    "print data.info()"
   ]
  },
  {
   "cell_type": "code",
   "execution_count": 48,
   "metadata": {
    "collapsed": false,
    "scrolled": true
   },
   "outputs": [],
   "source": [
    "# delete columns that aren't obviously useful\n",
    "data = data.drop(['PassengerId', 'Ticket', 'Cabin'], axis=1)"
   ]
  },
  {
   "cell_type": "code",
   "execution_count": 49,
   "metadata": {
    "collapsed": false,
    "scrolled": true
   },
   "outputs": [],
   "source": [
    "# Assign catagorical columns integer values\n",
    "data.ix[data.Sex == 'male', 'Sex'] = 0\n",
    "data.ix[data.Sex == 'female', 'Sex'] = 1\n",
    "data.Sex = data.Sex.astype('int64')"
   ]
  },
  {
   "cell_type": "code",
   "execution_count": 50,
   "metadata": {
    "collapsed": false
   },
   "outputs": [],
   "source": [
    "#print data.Name[0:100]\n",
    "data.ix[[('Mr.' not in x) and ('Mrs.' not in x) and ('Master.' not in x) and ('Miss.' not in x) for x in data.Name], 'Name'] = '-1'\n",
    "data.ix[[('Mr.' in x) for x in data.Name], 'Name'] = '0'\n",
    "data.ix[[('Mrs.' in x) for x in data.Name], 'Name'] = '1'\n",
    "data.ix[[('Master.' in x) for x in data.Name], 'Name'] = '2'\n",
    "data.ix[[('Miss.' in x) for x in data.Name], 'Name'] = '3'\n",
    "data.Name = data.Name.astype('int64')"
   ]
  },
  {
   "cell_type": "code",
   "execution_count": 51,
   "metadata": {
    "collapsed": false
   },
   "outputs": [],
   "source": [
    "data[\"Embarked\"] = data[\"Embarked\"].fillna(\"S\")\n",
    "data.ix[data.Embarked == 'C', 'Embarked'] = 0\n",
    "data.ix[data.Embarked == 'Q', 'Embarked'] = 1\n",
    "data.ix[data.Embarked == 'S', 'Embarked'] = 2\n",
    "data.Embarked = data.Embarked.astype('int64')"
   ]
  },
  {
   "cell_type": "code",
   "execution_count": 52,
   "metadata": {
    "collapsed": false
   },
   "outputs": [],
   "source": [
    "# Fill missing Ages with median of name categories\n",
    "data.Age[data.Name==-1] = data.Age[data.Name==-1].fillna(data.Age[data.Name==-1].median())\n",
    "data.Age[data.Name==0] = data.Age[data.Name==0].fillna(data.Age[data.Name==0].median())\n",
    "data.Age[data.Name==1] = data.Age[data.Name==1].fillna(data.Age[data.Name==1].median())\n",
    "data.Age[data.Name==2] = data.Age[data.Name==2].fillna(data.Age[data.Name==2].median())\n",
    "data.Age[data.Name==3] = data.Age[data.Name==3].fillna(data.Age[data.Name==3].median())\n",
    "data.Age = data.Age.astype('int64')"
   ]
  },
  {
   "cell_type": "code",
   "execution_count": 53,
   "metadata": {
    "collapsed": false
   },
   "outputs": [
    {
     "name": "stdout",
     "output_type": "stream",
     "text": [
      "<class 'pandas.core.frame.DataFrame'>\n",
      "Int64Index: 891 entries, 0 to 890\n",
      "Data columns (total 9 columns):\n",
      "Survived    891 non-null int64\n",
      "Pclass      891 non-null int64\n",
      "Name        891 non-null int64\n",
      "Sex         891 non-null int64\n",
      "Age         891 non-null int64\n",
      "SibSp       891 non-null int64\n",
      "Parch       891 non-null int64\n",
      "Fare        891 non-null int64\n",
      "Embarked    891 non-null int64\n",
      "dtypes: int64(9)None\n"
     ]
    }
   ],
   "source": [
    "data.Fare = data.Fare.astype('int64')\n",
    "print data.info()\n",
    "data.hist('Age')\n",
    "plt.show()\n",
    "# Clean NaN\n",
    "#data = data.fillna(data.mean(), inplace=True)"
   ]
  },
  {
   "cell_type": "code",
   "execution_count": 60,
   "metadata": {
    "collapsed": false
   },
   "outputs": [],
   "source": [
    "# Regularize\n",
    "#print data.ix[:,'Pclass':]\n",
    "data.ix[:,'Pclass':] = (data.ix[:,'Pclass':] - data.ix[:,'Pclass':].mean()) / data.ix[:,'Pclass':].std()"
   ]
  },
  {
   "cell_type": "code",
   "execution_count": 61,
   "metadata": {
    "collapsed": false
   },
   "outputs": [],
   "source": [
    "X = data.ix[:,'Pclass':].as_matrix()\n",
    "Y = data.Survived.values\n",
    "kf = KFold(n_splits=2)\n",
    "for train_index, test_index in kf.split(X):\n",
    "  #X_train = X[train_index]\n",
    "  X_train, X_test = X[train_index], X[test_index]\n",
    "  Y_train, Y_test = Y[train_index], Y[test_index]"
   ]
  },
  {
   "cell_type": "code",
   "execution_count": 74,
   "metadata": {
    "collapsed": false
   },
   "outputs": [
    {
     "data": {
      "text/plain": [
       "0.75730337078651688"
      ]
     },
     "execution_count": 74,
     "metadata": {},
     "output_type": "execute_result"
    }
   ],
   "source": [
    "# Decision tree\n",
    "clf = tree.DecisionTreeClassifier()\n",
    "clf = clf.fit(X_train, Y_train)\n",
    "#Y_pred = clf.predict(data.Surv)\n",
    "clf.score(X_test, Y_test)"
   ]
  },
  {
   "cell_type": "code",
   "execution_count": 83,
   "metadata": {
    "collapsed": false
   },
   "outputs": [
    {
     "data": {
      "text/plain": [
       "0.78426966292134837"
      ]
     },
     "execution_count": 83,
     "metadata": {},
     "output_type": "execute_result"
    }
   ],
   "source": [
    "# Random forest\n",
    "random_forest = RandomForestClassifier(n_estimators=100)\n",
    "random_forest.fit(X_train, Y_train)\n",
    "#Y_pred = random_forest.predict(X_test)\n",
    "random_forest.score(X_test, Y_test)"
   ]
  },
  {
   "cell_type": "code",
   "execution_count": 84,
   "metadata": {
    "collapsed": false
   },
   "outputs": [
    {
     "data": {
      "text/plain": [
       "0.80449438202247192"
      ]
     },
     "execution_count": 84,
     "metadata": {},
     "output_type": "execute_result"
    }
   ],
   "source": [
    "# Boosted tree\n",
    "boost = AdaBoostClassifier()\n",
    "boost.fit(X_train, Y_train)\n",
    "boost.score(X_test, Y_test)"
   ]
  },
  {
   "cell_type": "code",
   "execution_count": null,
   "metadata": {
    "collapsed": true
   },
   "outputs": [],
   "source": []
  }
 ],
 "metadata": {
  "kernelspec": {
   "display_name": "Python 2",
   "language": "python",
   "name": "python2"
  },
  "language_info": {
   "codemirror_mode": {
    "name": "ipython",
    "version": 2
   },
   "file_extension": ".py",
   "mimetype": "text/x-python",
   "name": "python",
   "nbconvert_exporter": "python",
   "pygments_lexer": "ipython2",
   "version": "2.7.6"
  }
 },
 "nbformat": 4,
 "nbformat_minor": 0
}
